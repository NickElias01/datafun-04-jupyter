{
 "cells": [
  {
   "cell_type": "markdown",
   "metadata": {},
   "source": [
    "## Iris Flower Dataset Analysis\n",
    "- Author: Nick Elias\n",
    "- Date: 9/20/2024\n",
    "\n",
    "This notebook explores the famous Iris dataset, which contains measurements of iris flowers to classify them into three species: \n",
    "Iris setosa, Iris versicolor, and Iris virginica. The aim is to analyze the dataset and visualize relationships between features."
   ]
  },
  {
   "cell_type": "code",
   "execution_count": 61,
   "metadata": {},
   "outputs": [],
   "source": [
    "import matplotlib.pyplot as plt\n",
    "import pandas as pd\n",
    "import seaborn as sns\n",
    "import requests"
   ]
  },
  {
   "cell_type": "markdown",
   "metadata": {},
   "source": [
    "## Step 1. Data Acquisition\n",
    "Load the Iris dataset into DataFrame"
   ]
  },
  {
   "cell_type": "code",
   "execution_count": null,
   "metadata": {},
   "outputs": [],
   "source": [
    "df = sns.load_dataset('iris')\n",
    "\n",
    "# Inspect first rows of the DataFrame\n",
    "print(df.head())"
   ]
  },
  {
   "cell_type": "markdown",
   "metadata": {},
   "source": [
    "## Step 2. Initial Data Inspection\n",
    "Let's inspect the first few rows, shape, and data types of the dataset."
   ]
  },
  {
   "cell_type": "code",
   "execution_count": null,
   "metadata": {},
   "outputs": [],
   "source": [
    "print(df.head(10))\n",
    "print(df.shape)\n",
    "print(df.dtypes)"
   ]
  },
  {
   "cell_type": "markdown",
   "metadata": {},
   "source": [
    "## Step 3: Initial Descriptive Statistics\n",
    "Get an overview of the dataset with descriptive statistics."
   ]
  },
  {
   "cell_type": "code",
   "execution_count": null,
   "metadata": {},
   "outputs": [],
   "source": [
    "print(df.describe())"
   ]
  },
  {
   "cell_type": "markdown",
   "metadata": {},
   "source": [
    "## Step 4: Initial Data Distribution for Numerical Columns\n",
    "Visualize the distribution of numerical features using histograms."
   ]
  },
  {
   "cell_type": "code",
   "execution_count": null,
   "metadata": {},
   "outputs": [],
   "source": [
    "# Inspect histogram by numerical column\n",
    "df['sepal_length'].hist()\n",
    "\n",
    "# Inspect histograms for all numerical columns\n",
    "df.hist()\n",
    "\n",
    "# Show all plots\n",
    "plt.show()"
   ]
  },
  {
   "cell_type": "markdown",
   "metadata": {},
   "source": [
    "## Observations of Numerical Distributions\n",
    " - **Sepal Length**: Slightly resembles a normal distribution, with frequencies concentrated around 5.5 to 6.5.\n",
    " - **Sepal Width**: More normal-like, with the highest frequency around 3.2.\n",
    " - **Petal Length**: Not normal; highest frequency around 1, with an increase until 5.\n",
    " - **Petal Width**: Also not normal, with multiple peaks indicating varying frequency distributions."
   ]
  },
  {
   "cell_type": "markdown",
   "metadata": {},
   "source": [
    "## Step 5: Initial Data Distribution for Categorical Columns\n",
    "Analyze the distribution of species."
   ]
  },
  {
   "cell_type": "code",
   "execution_count": null,
   "metadata": {},
   "outputs": [],
   "source": [
    "# Inspect value counts by categorical column\n",
    "df['species'].value_counts()\n",
    "\n",
    "# Inspect value counts for all categorical columns\n",
    "for col in df.select_dtypes(include=['object', 'category']).columns:\n",
    "    # Display count plot\n",
    "    sns.countplot(x=col, data=df)\n",
    "    plt.title(f'Distribution of {col}')\n",
    "    plt.show()\n",
    "\n",
    "# Show all plots\n",
    "plt.show()"
   ]
  },
  {
   "cell_type": "markdown",
   "metadata": {},
   "source": [
    "## Observations of Species Distribution\n",
    "### The species are evenly distributed: \n",
    "- 50 Setosa \n",
    "- 50 Versicolor \n",
    "- 50 Virginica"
   ]
  },
  {
   "cell_type": "markdown",
   "metadata": {},
   "source": [
    "## Step 6: Initial Data Transformation and Feature Engineering\n",
    "Renaming columns for clarity and adding a new feature: Sepal Area"
   ]
  },
  {
   "cell_type": "code",
   "execution_count": 67,
   "metadata": {},
   "outputs": [],
   "source": [
    "# Renaming columns if necessary\n",
    "column_rename_map = {\n",
    "    'sepal_length': 'Sepal Length',\n",
    "    'sepal_width': 'Sepal Width',\n",
    "    'petal_length': 'Petal Length',\n",
    "    'petal_width': 'Petal Width',\n",
    "    'species': 'Species'\n",
    "}\n",
    "\n",
    "# Only rename columns that are in the DataFrame\n",
    "df.rename(columns={k: v for k, v in column_rename_map.items() if k in df.columns}, inplace=True)\n",
    "\n",
    "# Adding a new column if the necessary columns exist\n",
    "if 'Sepal Length' in df.columns and 'Sepal Width' in df.columns:\n",
    "    df['Sepal Area'] = df['Sepal Length'] * df['Sepal Width']"
   ]
  },
  {
   "cell_type": "markdown",
   "metadata": {},
   "source": [
    "## Step 7: Initial Visualizations\n",
    "Visualizing relationships between features using box plots."
   ]
  },
  {
   "cell_type": "code",
   "execution_count": null,
   "metadata": {},
   "outputs": [],
   "source": [
    "# Separate box plots for each numeric column\n",
    "numeric_columns = ['Sepal Length', 'Sepal Width', 'Petal Length', 'Petal Width', 'Sepal Area']\n",
    "\n",
    "plt.figure(figsize=(12, 8))\n",
    "\n",
    "for i, col in enumerate(numeric_columns, 1):\n",
    "    plt.subplot(2, 3, i)  # Creating a 2x3 grid for the plots\n",
    "    sns.boxplot(y=df[col])\n",
    "    plt.title(f'Box Plot of {col}')\n",
    "\n",
    "plt.tight_layout()  # Adjust layout to prevent overlap\n",
    "plt.show()"
   ]
  },
  {
   "cell_type": "markdown",
   "metadata": {},
   "source": [
    "### Box Plot Observations for the Iris Dataset\n",
    "\n",
    "- **Sepal Length**: The distribution of Sepal Length shows a relatively balanced spread across the species. There are some outliers, particularly in the Setosa species, which have shorter sepals compared to the other species.\n",
    "  \n",
    "- **Sepal Width**: Sepal Width also shows variability, with the Setosa species having generally wider sepals. Outliers are present in all species, though they are more pronounced for Versicolor and Virginica.\n",
    "\n",
    "- **Petal Length**: Petal Length varies significantly across species, with Setosa having noticeably shorter petals compared to Versicolor and Virginica. Versicolor and Virginica show a wider spread, with fewer outliers.\n",
    "\n",
    "- **Petal Width**: Similar to Petal Length, Petal Width shows distinct differences between species. Setosa has narrower petals, while Versicolor and Virginica exhibit wider petals with some outliers.\n",
    "\n",
    "- **Sepal Area**: The newly engineered feature Sepal Area displays a broader range of values. Virginica generally has the largest Sepal Area, while Setosa has the smallest. Outliers are present in all species.\n"
   ]
  },
  {
   "cell_type": "markdown",
   "metadata": {},
   "source": [
    "## Step 8: Storytelling and Presentation\n",
    "### Summarize key findings and implications based on the analysis.\n",
    " - The distributions of features suggest differing characteristics among species.\n",
    " - Visualizations indicate clear separations between species based on petal dimensions.\n",
    " - Further analysis, such as classification algorithms, could provide insights into species prediction."
   ]
  },
  {
   "cell_type": "markdown",
   "metadata": {},
   "source": [
    "# Conclusion\n",
    "The Iris dataset provides a rich source for exploring flower characteristics and species classification. \n",
    "Future work could involve building predictive models using machine learning algorithms."
   ]
  }
 ],
 "metadata": {
  "kernelspec": {
   "display_name": "Python 3",
   "language": "python",
   "name": "python3"
  },
  "language_info": {
   "codemirror_mode": {
    "name": "ipython",
    "version": 3
   },
   "file_extension": ".py",
   "mimetype": "text/x-python",
   "name": "python",
   "nbconvert_exporter": "python",
   "pygments_lexer": "ipython3",
   "version": "3.11.4"
  }
 },
 "nbformat": 4,
 "nbformat_minor": 2
}
